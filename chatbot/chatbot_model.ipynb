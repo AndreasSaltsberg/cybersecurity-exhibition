{
 "cells": [
  {
   "cell_type": "code",
   "execution_count": 67,
   "metadata": {},
   "outputs": [],
   "source": [
    "# things we need for NLP\n",
    "import nltk\n",
    "from nltk.stem.lancaster import LancasterStemmer\n",
    "stemmer = LancasterStemmer()\n",
    "\n",
    "# things we need for Tensorflow\n",
    "import numpy as np\n",
    "import tflearn\n",
    "import tensorflow as tf\n",
    "import random"
   ]
  },
  {
   "cell_type": "code",
   "execution_count": 68,
   "metadata": {},
   "outputs": [
    {
     "name": "stdout",
     "output_type": "stream",
     "text": [
      "{u'intents': [{u'patterns': [u'Tere', u'Hei', u'Tsau', u'Tsauki'], u'tag': u'name', u'responses': [u'Tere, mis su nimi on? \\U0001f600\\U0001f600\\U0001f600'], u'context_set': u'name'}, {u'responses': [u'Igastahes, ma olen Mari ja olen 14-aastane. Kui vana sa oled?', u'\\U0001f4a9 Kahju! Ma olen Martin, 13. Vana sa?', u'Okei, Ma olen Kadri, kohe saan 12. Kui vana sa praegu oled?'], u'positive': False, u'patterns': [u'Ei \\xfctle', u'Ei'], u'tag': u'age_neg', u'context_filter': u'name', u'context_set': u'age'}, {u'responses': [u'R\\xf5\\xf5m tutvuda, ma olen Mari ja olen 14-aastane. Kui vana sa oled?', u'\\U0001f600 Tore! Ma olen Martin, 13. Vana sa?', u'Ma olen Kadri, kohe saan 12. Kui vana sa praegu oled?'], u'positive': True, u'patterns': [u'Olen', u'Minu nimi', u' '], u'tag': u'age_pos', u'context_filter': u'name', u'context_set': u'age'}, {u'patterns': [u'Ei \\xfctle', u'Ei'], u'tag': u'home', u'context_filter': u'age', u'responses': [u'Okei! Mul on kodus koer ja me elame perega Viimsis suures majas. Kus sa elad?', u'Lahe! Mul on kodus kass ja ma elan \\xfches korteris Mustam\\xe4el. Kus sa elad?'], u'context_set': u'home'}, {u'patterns': [u'Ei \\xfctle', u'Majas', u'Korteris'], u'tag': u'location', u'context_filter': u'home', u'responses': [u'Okei! Kus su kodu muidu asub?', u'Olgu, aga kus su kodu asub?'], u'context_set': u'home_addr'}, {u'patterns': [u'Ei \\xfctle', u'Tallinnas', u'Tallinna l\\xe4hedal', u'Mujal'], u'tag': u'pets', u'context_filter': u'home_addr', u'responses': [u'Okei \\U0001f602 Kas sul ka lemmikloomi on?', u'Olgu, kuule, kas sul ka m\\xf5ni lemmikloom on?'], u'context_set': u'pet'}, {u'patterns': [u'On k\\xfcll', u'Ei ole', u'Ei \\xfctle'], u'tag': u'youtube', u'context_filter': u'pet', u'responses': [u'Tead, mul on \\xfcks h\\xe4sti lahe YouTube\\u2019i konto, ma panen sinna iga n\\xe4dal \\xfche video \\xfcles. Kas sul ka seal konto on? Anna oma kasutajanimi ja ma Subscriben!'], u'context_set': u'youtube'}, {u'patterns': [u'On k\\xfcll', u'Ei ole', u'Ei \\xfctle'], u'tag': u'subscribe', u'context_filter': u'youtube', u'responses': [u'Okei! Kuule, mis su Facebook on? Ma tahaks sind s\\xf5braks lisada!'], u'context_set': u'facebook'}, {u'patterns': [u'Ei ole', u'Ei \\xfctle'], u'tag': u'facebook', u'context_filter': u'facebook', u'responses': [u'Ok \\U0001f602 Kuule, mis klassis sa k\\xe4isidki?'], u'context_set': u'class'}, {u'patterns': [u'Ei \\xfctle', u'4', u'5', u'6', u'7'], u'tag': u'grade', u'context_filter': u'class', u'responses': [u'Ok \\U0001f602 ! Kuule, ma pean praegu minema, r\\xe4\\xe4gime teine kord uuesti! Tsau!']}, {u'patterns': [u'Head aega!', u'N\\xe4gemist!', u'Tsau!'], u'tag': u'goodbye', u'context_filter': u'bye', u'responses': [u'N\\xe4gemist']}]}\n"
     ]
    }
   ],
   "source": [
    "# import our chat-bot intents file\n",
    "import json\n",
    "with open('intents.json') as json_data:\n",
    "    intents = json.load(json_data)\n",
    "    \n",
    "print(intents)"
   ]
  },
  {
   "cell_type": "code",
   "execution_count": 69,
   "metadata": {},
   "outputs": [
    {
     "name": "stdout",
     "output_type": "stream",
     "text": [
      "(34, 'documents')\n",
      "(11, 'classes', [u'age_neg', u'age_pos', u'facebook', u'goodbye', u'grade', u'home', u'location', u'name', u'pets', u'subscribe', u'youtube'])\n",
      "(25, 'unique stemmed words', [u'!', u'4', u'5', u'6', u'7', u'aeg', u'ei', u'head', u'hei', u'kort', u'k\\xfcll', u'l\\xe4hedal', u'maja', u'minu', u'muj', u'nim', u'n\\xe4gemist', u'ol', u'on', u'tallinn', u'tallinna', u'ter', u'tsau', u'tsauk', u'\\xfctle'])\n"
     ]
    }
   ],
   "source": [
    "words = []\n",
    "classes = []\n",
    "documents = []\n",
    "ignore_words = ['?']\n",
    "# loop through each sentence in our intents patterns\n",
    "for intent in intents['intents']:\n",
    "    for pattern in intent['patterns']:\n",
    "        # tokenize each word in the sentence\n",
    "        w = nltk.word_tokenize(pattern)\n",
    "        # add to our words list\n",
    "        words.extend(w)\n",
    "        # add to documents in our corpus\n",
    "        documents.append((w, intent['tag']))\n",
    "        # add to our classes list\n",
    "        if intent['tag'] not in classes:\n",
    "            classes.append(intent['tag'])\n",
    "\n",
    "# stem and lower each word and remove duplicates\n",
    "words = [stemmer.stem(w.lower()) for w in words if w not in ignore_words]\n",
    "words = sorted(list(set(words)))\n",
    "\n",
    "# remove duplicates\n",
    "classes = sorted(list(set(classes)))\n",
    "\n",
    "print (len(documents), \"documents\")\n",
    "print (len(classes), \"classes\", classes)\n",
    "print (len(words), \"unique stemmed words\", words)"
   ]
  },
  {
   "cell_type": "code",
   "execution_count": 70,
   "metadata": {},
   "outputs": [],
   "source": [
    "# create our training data\n",
    "training = []\n",
    "output = []\n",
    "# create an empty array for our output\n",
    "output_empty = [0] * len(classes)\n",
    "\n",
    "# training set, bag of words for each sentence\n",
    "for doc in documents:\n",
    "    # initialize our bag of words\n",
    "    bag = []\n",
    "    # list of tokenized words for the pattern\n",
    "    pattern_words = doc[0]\n",
    "    # stem each word\n",
    "    pattern_words = [stemmer.stem(word.lower()) for word in pattern_words]\n",
    "    # create our bag of words array\n",
    "    for w in words:\n",
    "        bag.append(1) if w in pattern_words else bag.append(0)\n",
    "\n",
    "    # output is a '0' for each tag and '1' for current tag\n",
    "    output_row = list(output_empty)\n",
    "    output_row[classes.index(doc[1])] = 1\n",
    "\n",
    "    training.append([bag, output_row])\n",
    "\n",
    "# shuffle our features and turn into np.array\n",
    "random.shuffle(training)\n",
    "training = np.array(training)\n",
    "\n",
    "# create train and test lists\n",
    "train_x = list(training[:,0])\n",
    "train_y = list(training[:,1])"
   ]
  },
  {
   "cell_type": "code",
   "execution_count": 71,
   "metadata": {
    "scrolled": true
   },
   "outputs": [
    {
     "name": "stdout",
     "output_type": "stream",
     "text": [
      "Training Step: 4999  | total loss: \u001b[1m\u001b[32m1.07610\u001b[0m\u001b[0m | time: 0.017s\n",
      "| Adam | epoch: 1000 | loss: 1.07610 - acc: 0.6951 -- iter: 32/34\n",
      "Training Step: 5000  | total loss: \u001b[1m\u001b[32m1.07253\u001b[0m\u001b[0m | time: 0.019s\n",
      "| Adam | epoch: 1000 | loss: 1.07253 - acc: 0.6756 -- iter: 34/34\n",
      "--\n",
      "INFO:tensorflow:/home/salts/cybersecurity-exhibition/chatbot/model.tflearn is not in all_model_checkpoint_paths. Manually adding it.\n"
     ]
    }
   ],
   "source": [
    "# reset underlying graph data\n",
    "tf.reset_default_graph()\n",
    "# Build neural network\n",
    "net = tflearn.input_data(shape=[None, len(train_x[0])])\n",
    "net = tflearn.fully_connected(net, 8)\n",
    "net = tflearn.fully_connected(net, 8)\n",
    "net = tflearn.fully_connected(net, len(train_y[0]), activation='softmax')\n",
    "net = tflearn.regression(net)\n",
    "\n",
    "# Define model and setup tensorboard\n",
    "model = tflearn.DNN(net, tensorboard_dir='tflearn_logs')\n",
    "# Start training (apply gradient descent algorithm)\n",
    "model.fit(train_x, train_y, n_epoch=1000, batch_size=8, show_metric=True)\n",
    "model.save('model.tflearn')"
   ]
  },
  {
   "cell_type": "code",
   "execution_count": 72,
   "metadata": {},
   "outputs": [],
   "source": [
    "def clean_up_sentence(sentence):\n",
    "    # tokenize the pattern\n",
    "    sentence_words = nltk.word_tokenize(sentence)\n",
    "    # stem each word\n",
    "    sentence_words = [stemmer.stem(word.lower()) for word in sentence_words]\n",
    "    return sentence_words\n",
    "\n",
    "# return bag of words array: 0 or 1 for each word in the bag that exists in the sentence\n",
    "def bow(sentence, words, show_details=False):\n",
    "    # tokenize the pattern\n",
    "    sentence_words = clean_up_sentence(sentence)\n",
    "    # bag of words\n",
    "    bag = [0]*len(words)  \n",
    "    for s in sentence_words:\n",
    "        for i,w in enumerate(words):\n",
    "            if w == s: \n",
    "                bag[i] = 1\n",
    "                if show_details:\n",
    "                    print (\"found in bag: %s\" % w)\n",
    "\n",
    "    return(np.array(bag))"
   ]
  },
  {
   "cell_type": "code",
   "execution_count": 73,
   "metadata": {},
   "outputs": [
    {
     "name": "stdout",
     "output_type": "stream",
     "text": [
      "[0 0 0 0 0 0 0 0 0 0 0 0 0 0 0 0 0 0 0 0 0 0 0 0 0]\n",
      "[u'age_neg', u'age_pos', u'facebook', u'goodbye', u'grade', u'home', u'location', u'name', u'pets', u'subscribe', u'youtube']\n"
     ]
    }
   ],
   "source": [
    "p = bow(\"is your shop open today?\", words)\n",
    "print (p)\n",
    "print (classes)"
   ]
  },
  {
   "cell_type": "code",
   "execution_count": 74,
   "metadata": {},
   "outputs": [
    {
     "name": "stdout",
     "output_type": "stream",
     "text": [
      "[[0.02271738 0.4632715  0.02516184 0.03918431 0.121388   0.02084694\n",
      "  0.08184329 0.18805069 0.01017467 0.01439557 0.01296587]]\n"
     ]
    }
   ],
   "source": [
    "print(model.predict([p]))"
   ]
  },
  {
   "cell_type": "code",
   "execution_count": 75,
   "metadata": {},
   "outputs": [],
   "source": [
    "# save all of our data structures\n",
    "import pickle\n",
    "pickle.dump( {'words':words, 'classes':classes, 'train_x':train_x, 'train_y':train_y}, open( \"training_data\", \"wb\" ) )"
   ]
  },
  {
   "cell_type": "code",
   "execution_count": null,
   "metadata": {},
   "outputs": [],
   "source": []
  },
  {
   "cell_type": "code",
   "execution_count": null,
   "metadata": {},
   "outputs": [],
   "source": []
  },
  {
   "cell_type": "code",
   "execution_count": null,
   "metadata": {},
   "outputs": [],
   "source": []
  }
 ],
 "metadata": {
  "kernelspec": {
   "display_name": "Python 2",
   "language": "python",
   "name": "python2"
  },
  "language_info": {
   "codemirror_mode": {
    "name": "ipython",
    "version": 2
   },
   "file_extension": ".py",
   "mimetype": "text/x-python",
   "name": "python",
   "nbconvert_exporter": "python",
   "pygments_lexer": "ipython2",
   "version": "2.7.15+"
  }
 },
 "nbformat": 4,
 "nbformat_minor": 1
}
